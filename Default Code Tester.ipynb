{
  "cells": [
    {
      "metadata": {
        "trusted": true
      },
      "cell_type": "code",
      "source": "list1=['Bob','Sally','Jennifer','John','Scott']\nprint(list1)\n\nprint('Bob','Sally','Jennifer','John','Scott', sep=\"-\", end=\"\\n\\n\\n\\n\")",
      "execution_count": 21,
      "outputs": [
        {
          "output_type": "stream",
          "text": "['Bob', 'Sally', 'Jennifer', 'John', 'Scott']\nBob-Sally-Jennifer-John-Scott\n\n\n\n",
          "name": "stdout"
        }
      ]
    },
    {
      "metadata": {
        "trusted": true
      },
      "cell_type": "code",
      "source": "def funct1(varA):\n    def funct2():\n        \n        print('-----Heading-----')\n        varA()\n        print('-----Ending-----')\n    return funct2\n\n@funct1        \ndef functMain():\n    print('something')        ",
      "execution_count": 24,
      "outputs": []
    },
    {
      "metadata": {
        "trusted": true
      },
      "cell_type": "code",
      "source": "functMain()",
      "execution_count": 25,
      "outputs": [
        {
          "output_type": "stream",
          "text": "-----Heading-----\nsomething\n-----Ending-----\n",
          "name": "stdout"
        }
      ]
    },
    {
      "metadata": {
        "trusted": true
      },
      "cell_type": "code",
      "source": "def deco(vari):\n    print('something new')\n    return vari()\n\n@deco    \ndef funky():\n    print('else')\n    \n    \n#funky()    ",
      "execution_count": 38,
      "outputs": [
        {
          "output_type": "stream",
          "text": "something new\nelse\n",
          "name": "stdout"
        }
      ]
    },
    {
      "metadata": {
        "trusted": true
      },
      "cell_type": "code",
      "source": "funky()",
      "execution_count": 39,
      "outputs": [
        {
          "output_type": "error",
          "ename": "TypeError",
          "evalue": "'NoneType' object is not callable",
          "traceback": [
            "\u001b[0;31m---------------------------------------------------------------------------\u001b[0m",
            "\u001b[0;31mTypeError\u001b[0m                                 Traceback (most recent call last)",
            "\u001b[0;32m<ipython-input-39-59d9903c1e14>\u001b[0m in \u001b[0;36m<module>\u001b[0;34m\u001b[0m\n\u001b[0;32m----> 1\u001b[0;31m \u001b[0mfunky\u001b[0m\u001b[0;34m(\u001b[0m\u001b[0;34m)\u001b[0m\u001b[0;34m\u001b[0m\u001b[0m\n\u001b[0m",
            "\u001b[0;31mTypeError\u001b[0m: 'NoneType' object is not callable"
          ]
        }
      ]
    },
    {
      "metadata": {
        "trusted": true
      },
      "cell_type": "code",
      "source": "",
      "execution_count": null,
      "outputs": []
    }
  ],
  "metadata": {
    "kernelspec": {
      "name": "python36",
      "display_name": "Python 3.6",
      "language": "python"
    },
    "language_info": {
      "mimetype": "text/x-python",
      "nbconvert_exporter": "python",
      "name": "python",
      "pygments_lexer": "ipython3",
      "version": "3.6.6",
      "file_extension": ".py",
      "codemirror_mode": {
        "version": 3,
        "name": "ipython"
      }
    }
  },
  "nbformat": 4,
  "nbformat_minor": 2
}